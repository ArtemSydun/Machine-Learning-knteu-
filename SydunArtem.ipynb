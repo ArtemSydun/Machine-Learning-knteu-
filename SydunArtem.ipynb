{
  "metadata": {
    "language_info": {
      "codemirror_mode": {
        "name": "python",
        "version": 3
      },
      "file_extension": ".py",
      "mimetype": "text/x-python",
      "name": "python",
      "nbconvert_exporter": "python",
      "pygments_lexer": "ipython3",
      "version": "3.8"
    },
    "kernelspec": {
      "name": "python",
      "display_name": "Python (Pyodide)",
      "language": "python"
    }
  },
  "nbformat_minor": 4,
  "nbformat": 4,
  "cells": [
    {
      "cell_type": "code",
      "source": "import numpy as np",
      "metadata": {
        "trusted": true
      },
      "execution_count": 1,
      "outputs": []
    },
    {
      "cell_type": "markdown",
      "source": "1 Створіть одновимірний масив (вектор) з сумами добутків двох попередніх чисел та їхнього суми, починаючи з 1, та виведіть його значення. ",
      "metadata": {}
    },
    {
      "cell_type": "code",
      "source": "n = 5\nvector = [1] * n  # Починаємо з першого елементу, який завжди 1\n\n# Заповнюємо вектор\nfor i in range(2, n):\n    vector[i] = vector[i - 2] * vector[i - 1] + vector[i - 1] + vector[i - 2]\n\n# Виводимо вектор\nprint(vector)",
      "metadata": {
        "trusted": true
      },
      "execution_count": 9,
      "outputs": [
        {
          "name": "stdout",
          "text": "[1, 1, 3, 7, 31]\n",
          "output_type": "stream"
        }
      ]
    },
    {
      "cell_type": "markdown",
      "source": "2 Створіть двовимірний масив (матрицю) розміром 3x3, заповніть його значеннями добутків найближчого меншого парного числа на кожне натуральне число, починаючи з 1, та виведіть його значення. ",
      "metadata": {}
    },
    {
      "cell_type": "code",
      "source": "n = 3\nm = 3\n\n# Ініціалізуємо матрицю нулями\nmatrix = np.zeros((n, m), dtype=int)\n\n# Заповнюємо матрицю\ncurrent_number = 1\nfor i in range(n):\n    for j in range(m):\n        # Знаходимо найближче менше парне число\n        nearest_even = current_number - 1 if current_number % 2 == 1 else current_number - 2\n        # Обчислюємо значення та записуємо його в матрицю\n        matrix[i, j] = nearest_even * current_number\n        current_number += 1\n\n# Виводимо матрицю\nmatrix",
      "metadata": {
        "trusted": true
      },
      "execution_count": 10,
      "outputs": [
        {
          "execution_count": 10,
          "output_type": "execute_result",
          "data": {
            "text/plain": "array([[ 0,  0,  6],\n       [ 8, 20, 24],\n       [42, 48, 72]])"
          },
          "metadata": {}
        }
      ]
    },
    {
      "cell_type": "markdown",
      "source": "3 Створіть масив розміром 5x5, заповніть його випадковими дійсними числами від 0 до 1 та знайдіть відсоток чисел, які є простими. ",
      "metadata": {}
    },
    {
      "cell_type": "code",
      "source": "n = 5\nm = 5\n\n# Ініціалізуємо матрицю випадковими дійсними числами від 0 до 1\nmatrix = np.random.rand(n, m)\n\n# Функція для перевірки, чи є число простим\ndef is_prime(number):\n    if number <= 1:\n        return False\n    for i in range(2, int(number**0.5) + 1):\n        if number % i == 0:\n            return False\n    return True\n\n# Векторізуємо функцію is_prime для застосування до всіх елементів матриці\nis_prime_vectorized = np.vectorize(is_prime)\n\n# Рахуємо кількість простих чисел у матриці\nprime_count = np.sum(is_prime_vectorized(matrix))\n\n# Знаходимо відсоток простих чисел\npercentage_prime = (prime_count / (n * m)) * 100\n\n# Виводимо матрицю та відсоток простих чисел\nmatrix, percentage_prime",
      "metadata": {
        "trusted": true
      },
      "execution_count": 12,
      "outputs": [
        {
          "execution_count": 12,
          "output_type": "execute_result",
          "data": {
            "text/plain": "(array([[0.34471176, 0.4441173 , 0.0500898 , 0.95065118, 0.16257072],\n        [0.2113853 , 0.18031729, 0.12956058, 0.8468302 , 0.56466535],\n        [0.28910983, 0.00486298, 0.05061793, 0.64117349, 0.19934835],\n        [0.46047937, 0.19112333, 0.98676104, 0.83924513, 0.66050306],\n        [0.99877338, 0.93038653, 0.87355391, 0.43177691, 0.26617811]]),\n 0.0)"
          },
          "metadata": {}
        }
      ]
    },
    {
      "cell_type": "markdown",
      "source": "4 Створіть масив розміром 4x4, заповніть його випадковими дійсними числами в діапазоні від -1.1 до 1.1 та виведіть його значення. ",
      "metadata": {}
    },
    {
      "cell_type": "code",
      "source": "n = 4\nm = 4\n\n# Генеруємо масив з випадковими числами в заданому діапазоні\nmatrix = np.random.uniform(-1.1, 1.1, size=(n, m))\n\n# Виводимо матрицю\nmatrix",
      "metadata": {
        "trusted": true
      },
      "execution_count": 13,
      "outputs": [
        {
          "execution_count": 13,
          "output_type": "execute_result",
          "data": {
            "text/plain": "array([[-0.34566362, -0.05877554,  0.256782  , -0.52198315],\n       [ 0.64193162, -0.162163  , -0.42446358,  0.23075581],\n       [ 0.33288817,  0.95618056,  1.06983384, -0.79665979],\n       [ 0.87599645,  0.0568216 ,  0.8587687 , -1.00855651]])"
          },
          "metadata": {}
        }
      ]
    },
    {
      "cell_type": "markdown",
      "source": "5 Створіть два одновимірних масиви розміром 4, заповніть їх випадковими цілими числами в діапазоні від 15 до 25 та виконайте на них поелементні операції додавання, віднімання та множення. ",
      "metadata": {}
    },
    {
      "cell_type": "code",
      "source": "n = 4\n\n# Заповнюємо два масиви випадковими цілими числами в діапазоні від 15 до 25\narray1 = np.random.randint(15, 26, size=n)\narray2 = np.random.randint(15, 26, size=n)\n\n# Виконуємо поелементне додавання, віднімання та множення\naddition_result = array1 + array2\nsubtraction_result = array1 - array2\nmultiplication_result = array1 * array2\n\n# Виводимо обидва масиви та результати операцій\narray1, array2, addition_result, subtraction_result, multiplication_result",
      "metadata": {
        "trusted": true
      },
      "execution_count": 14,
      "outputs": [
        {
          "execution_count": 14,
          "output_type": "execute_result",
          "data": {
            "text/plain": "(array([24, 18, 16, 24]),\n array([17, 16, 18, 22]),\n array([41, 34, 34, 46]),\n array([ 7,  2, -2,  2]),\n array([408, 288, 288, 528]))"
          },
          "metadata": {}
        }
      ]
    },
    {
      "cell_type": "markdown",
      "source": "6 Створіть два вектори розміром 4, заповніть їх довільними дійсними числами та знайдіть їх скалярний добуток. ",
      "metadata": {}
    },
    {
      "cell_type": "code",
      "source": "n = 4\n\n# Заповнюємо два вектори довільними дійсними числами\nvector1 = np.random.rand(n)\nvector2 = np.random.rand(n)\n\n# Знаходимо скалярний добуток векторів\nscalar_product = np.dot(vector1, vector2)\n\n# Виводимо обидва вектори та скалярний добуток\nvector1, vector2, scalar_product",
      "metadata": {
        "trusted": true
      },
      "execution_count": 15,
      "outputs": [
        {
          "execution_count": 15,
          "output_type": "execute_result",
          "data": {
            "text/plain": "(array([0.67747237, 0.30252913, 0.09931562, 0.54663984]),\n array([0.90516159, 0.74970969, 0.15238835, 0.14604467]),\n 0.9349993631427578)"
          },
          "metadata": {}
        }
      ]
    },
    {
      "cell_type": "markdown",
      "source": "7 Створіть дві матриці розміром 2x3 та 3x3, заповніть їх випадковими цілими числами в діапазоні від 1 до 12 та перемножте їх між собою. ",
      "metadata": {}
    },
    {
      "cell_type": "code",
      "source": "n1, m1 = 2, 3\nn2, m2 = 3, 3\n\n# Заповнюємо першу матрицю випадковими цілими числами в діапазоні від 1 до 12\nmatrix1 = np.random.randint(1, 13, size=(n1, m1))\n\n# Заповнюємо другу матрицю випадковими цілими числами в діапазоні від 1 до 12\nmatrix2 = np.random.randint(1, 13, size=(n2, m2))\n\n# Перемножуємо матриці між собою\nresult_matrix = np.dot(matrix1, matrix2)\n\n# Виводимо обидві матриці та результат перемноження\nmatrix1, matrix2, result_matrix",
      "metadata": {
        "trusted": true
      },
      "execution_count": 16,
      "outputs": [
        {
          "execution_count": 16,
          "output_type": "execute_result",
          "data": {
            "text/plain": "(array([[ 3, 12,  9],\n        [12, 12,  5]]),\n array([[ 6,  5,  5],\n        [ 6,  6,  1],\n        [ 5, 10,  1]]),\n array([[135, 177,  36],\n        [169, 182,  77]]))"
          },
          "metadata": {}
        }
      ]
    },
    {
      "cell_type": "markdown",
      "source": "8 Створіть матрицю розміром 2x2, заповніть її випадковими цілими числами в діапазоні від 1 до 7 та знайдіть її обернену матрицю. ",
      "metadata": {}
    },
    {
      "cell_type": "code",
      "source": "matrix = np.random.randint(1, 8, size=(2, 2))\n\n# Знаходимо обернену матрицю (якщо можливо)\ntry:\n    inverse_matrix = np.linalg.inv(matrix)\nexcept np.linalg.LinAlgError:\n    inverse_matrix = \"Обернена матриця не існує\"\n\n# Виводимо початкову матрицю та обернену матрицю\nmatrix, inverse_matrix",
      "metadata": {
        "trusted": true
      },
      "execution_count": 17,
      "outputs": [
        {
          "execution_count": 17,
          "output_type": "execute_result",
          "data": {
            "text/plain": "(array([[1, 1],\n        [4, 7]]),\n array([[ 2.33333333, -0.33333333],\n        [-1.33333333,  0.33333333]]))"
          },
          "metadata": {}
        }
      ]
    },
    {
      "cell_type": "markdown",
      "source": " 9 Створіть матрицю розміром 3x3, заповніть її випадковими дійсними числами в діапазоні від 5 до 10 та транспонуйте її. ",
      "metadata": {}
    },
    {
      "cell_type": "code",
      "source": "n = 3\n\n# Заповнюємо матрицю випадковими дійсними числами в діапазоні від 5 до 10\nmatrix = np.random.uniform(5, 10, size=(n, n))\n\n# Транспонуємо матрицю\ntransposed_matrix = np.transpose(matrix)\n\n# Виводимо початкову матрицю та транспоновану матрицю\nmatrix, transposed_matrix\n",
      "metadata": {
        "trusted": true
      },
      "execution_count": 27,
      "outputs": [
        {
          "execution_count": 27,
          "output_type": "execute_result",
          "data": {
            "text/plain": "(array([[9.7295147 , 6.41974964, 7.07530937],\n        [8.2965426 , 6.78267854, 8.51631276],\n        [9.60796197, 9.65691817, 7.83647348]]),\n array([[9.7295147 , 8.2965426 , 9.60796197],\n        [6.41974964, 6.78267854, 9.65691817],\n        [7.07530937, 8.51631276, 7.83647348]]))"
          },
          "metadata": {}
        }
      ]
    },
    {
      "cell_type": "markdown",
      "source": "10 Створіть матрицю розміром 3x4 та вектор розміром 4, заповніть матрицю випадковими дійсними числами від 0 до 1, а вектор - випадковими дійсними числами від 0 до 1, і знайдіть  добуток матриці на вектор. ",
      "metadata": {}
    },
    {
      "cell_type": "code",
      "source": "n_rows = 3\nn_cols = 4\nvector_size = 4\n\n# Заповнюємо матрицю випадковими дійсними числами від 0 до 1\nmatrix = np.random.rand(n_rows, n_cols)\n\n# Заповнюємо вектор випадковими дійсними числами від 0 до 1\nvector = np.random.rand(vector_size)\n\n# Обчислюємо добуток матриці на вектор\nresult = np.dot(matrix, vector)\n\n# Виводимо матрицю, вектор і результат добутку\nmatrix, vector, result",
      "metadata": {
        "trusted": true
      },
      "execution_count": 28,
      "outputs": [
        {
          "execution_count": 28,
          "output_type": "execute_result",
          "data": {
            "text/plain": "(array([[0.31814981, 0.93103808, 0.59857682, 0.08116268],\n        [0.80908635, 0.11558783, 0.29693554, 0.24010876],\n        [0.5494509 , 0.86507133, 0.74506173, 0.28468828]]),\n array([0.5235478 , 0.07711733, 0.58507925, 0.89014758]),\n array([0.66082745, 0.81997226, 1.04371054]))"
          },
          "metadata": {}
        }
      ]
    },
    {
      "cell_type": "markdown",
      "source": "11 Створіть матрицю розміром 2x3 та вектор розміром 3, заповніть матрицю випадковими цілими числами в діапазоні від 1 до 10, а вектор - випадковими цілими числами в діапазоні від 1 до 10, і знайдіть суму добутків елементів кожного рядка матриці на відповідний елемент вектору",
      "metadata": {}
    },
    {
      "cell_type": "code",
      "source": "n_rows = 2\nn_cols = 3\nvector_size = 3\n\n# Заповнюємо матрицю випадковими цілими числами від 1 до 10\nmatrix = np.random.randint(1, 11, size=(n_rows, n_cols))\n\n# Заповнюємо вектор випадковими цілими числами від 1 до 10\nvector = np.random.randint(1, 11, size=vector_size)\n\n# Змінюємо розмірність вектора\nvector = vector[:, np.newaxis]\n\n# Обчислюємо добуток матриці на вектор\nresult = np.dot(matrix, vector)\n\n# Виводимо матрицю, вектор і результат\nmatrix, vector, result",
      "metadata": {
        "trusted": true
      },
      "execution_count": 30,
      "outputs": [
        {
          "execution_count": 30,
          "output_type": "execute_result",
          "data": {
            "text/plain": "(array([[10,  5,  6],\n        [ 1,  1,  8]]),\n array([[9],\n        [5],\n        [1]]),\n array([[121],\n        [ 22]]))"
          },
          "metadata": {}
        }
      ]
    },
    {
      "cell_type": "markdown",
      "source": "12 Створіть дві матриці розміром 2x2, заповніть їх випадковими цілими числами в діапазоні від 1 до 10 та знайдіть суму всіх елементів обох матриць.",
      "metadata": {}
    },
    {
      "cell_type": "code",
      "source": "\n# Розмір матриць\nn_rows = 2\nn_cols = 2\n\n# Заповнюємо першу матрицю випадковими цілими числами від 1 до 10\nmatrix1 = np.random.randint(1, 11, size=(n_rows, n_cols))\n\n# Заповнюємо другу матрицю випадковими цілими числами від 1 до 10\nmatrix2 = np.random.randint(1, 11, size=(n_rows, n_cols))\n\n# Знаходимо суму всіх елементів обох матриць\nsum_matrix = matrix1 + matrix2\n\n# Виводимо обидві матриці та суму\nmatrix1, matrix2, sum_matrix",
      "metadata": {
        "trusted": true
      },
      "execution_count": 31,
      "outputs": [
        {
          "execution_count": 31,
          "output_type": "execute_result",
          "data": {
            "text/plain": "(array([[5, 9],\n        [7, 5]]),\n array([[10,  6],\n        [ 7,  7]]),\n array([[15, 15],\n        [14, 12]]))"
          },
          "metadata": {}
        }
      ]
    },
    {
      "cell_type": "markdown",
      "source": "13 Створіть дві матриці розміром 9x9, заповніть їх випадковими дійсними числами в діапазоні від 0 до 1 та знайдіть суму їх елементів. ",
      "metadata": {}
    },
    {
      "cell_type": "code",
      "source": "n_rows = 9\nn_cols = 9\n\n# Заповнюємо першу матрицю випадковими дійсними числами від 0 до 1\nmatrix1 = np.random.rand(n_rows, n_cols)\n\n# Заповнюємо другу матрицю випадковими дійсними числами від 0 до 1\nmatrix2 = np.random.rand(n_rows, n_cols)\n\n# Знаходимо суму всіх елементів обох матриць\nsum_matrix = matrix1 + matrix2\n\n# Виводимо суму\nnp.sum(sum_matrix)",
      "metadata": {
        "trusted": true
      },
      "execution_count": 33,
      "outputs": [
        {
          "execution_count": 33,
          "output_type": "execute_result",
          "data": {
            "text/plain": "82.89319851702737"
          },
          "metadata": {}
        }
      ]
    },
    {
      "cell_type": "markdown",
      "source": "14 Створіть матрицю розміром 5x5, заповніть її випадковими дійсними числами в діапазоні від -10 до 10 та знайдіть суму елементів на побічній діагоналі. ",
      "metadata": {}
    },
    {
      "cell_type": "code",
      "source": "n = 5\n\n# Заповнюємо матрицю випадковими дійсними числами в діапазоні від -10 до 10\nmatrix = np.random.uniform(-10, 10, size=(n, n))\n\n# Знаходимо суму елементів на побічній діагоналі\nsum_diagonal = np.trace(matrix)\n\n# Виводимо матрицю та суму елементів на побічній діагоналі\nmatrix, sum_diagonal",
      "metadata": {
        "trusted": true
      },
      "execution_count": 34,
      "outputs": [
        {
          "execution_count": 34,
          "output_type": "execute_result",
          "data": {
            "text/plain": "(array([[ 2.36445781, -3.96120575,  6.49332595,  4.33483168,  4.88203449],\n        [ 6.88049356, -6.92905696, -5.27133169, -9.32372415, -6.05795638],\n        [-6.53979159,  8.85664593,  0.36094249, -8.95235512, -4.02134553],\n        [ 0.65921943,  7.34311957, -2.60706071,  6.5901291 ,  7.82215914],\n        [-5.00125384, -8.71277522, -7.23318017, -0.27069788, -9.56213143]]),\n -7.175658993575677)"
          },
          "metadata": {}
        }
      ]
    },
    {
      "cell_type": "code",
      "source": "15 Створіть матрицю розміром 11x11, заповніть її випадковими дійсними числами в діапазоні \nвід 0 до 1 та знайдіть вектор-стовпчик, що містить найбільший елемент у кожному стовпці матриці. ",
      "metadata": {},
      "execution_count": null,
      "outputs": []
    },
    {
      "cell_type": "code",
      "source": "n = 11\n\n# Заповнюємо матрицю випадковими дійсними числами в діапазоні від 0 до 1\nmatrix = np.random.rand(n, n)\n\n# Знаходимо індекси найбільших елементів у кожному стовпці\nmax_indices = np.argmax(matrix, axis=0)\n\n# Створюємо вектор-стовпчик, що містить найбільший елемент у кожному стовпці матриці\nmax_elements = matrix[max_indices, range(n)]\nmax_elements = max_elements.reshape(-1, 1)\n\n# Виводимо вектор-стовпчик\nmax_elements",
      "metadata": {
        "trusted": true
      },
      "execution_count": 35,
      "outputs": [
        {
          "execution_count": 35,
          "output_type": "execute_result",
          "data": {
            "text/plain": "array([[0.79163936],\n       [0.9677472 ],\n       [0.92543054],\n       [0.89211471],\n       [0.98670808],\n       [0.99925873],\n       [0.83440228],\n       [0.99196249],\n       [0.9681136 ],\n       [0.83582995],\n       [0.97229518]])"
          },
          "metadata": {}
        }
      ]
    },
    {
      "cell_type": "markdown",
      "source": "За допомогою цієї лабораторної я дослідив способи заповнення масивів, їх перемноження, \nдодавання, знаходження найбільших елементів, транспонування і обернення матриці.",
      "metadata": {}
    }
  ]
}